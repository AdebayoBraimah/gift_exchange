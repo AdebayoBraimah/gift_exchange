{
 "cells": [
  {
   "cell_type": "markdown",
   "metadata": {},
   "source": [
    "# Import Modules & Packages"
   ]
  },
  {
   "cell_type": "code",
   "execution_count": 1,
   "metadata": {},
   "outputs": [],
   "source": [
    "import random\n",
    "import smtplib\n",
    "import yaml"
   ]
  },
  {
   "cell_type": "markdown",
   "metadata": {},
   "source": [
    "# Define Functions"
   ]
  },
  {
   "cell_type": "code",
   "execution_count": 22,
   "metadata": {},
   "outputs": [],
   "source": [
    "def send_email(sender: str,\n",
    "               sndr_pswd: str,\n",
    "               to: str,\n",
    "               subject: str,\n",
    "               msg: str,\n",
    "               debug: bool = False) -> None:\n",
    "    '''\n",
    "    Sends automated email message. (Assumes G-mail.)\n",
    "    \n",
    "    Args:\n",
    "        sender: Sender's email address.\n",
    "        sndr_pswd: Sender's email account password.\n",
    "        to: Recipient email address.\n",
    "        subject: Subject line of email.\n",
    "        msg: Message body of email.\n",
    "        debug: Enables debugging messages\n",
    "    \n",
    "    Returns:\n",
    "        None\n",
    "    '''\n",
    "    if debug:\n",
    "        server = smtplib.SMTP('smtp.gmail.com:587')\n",
    "        server.ehlo()\n",
    "        server.starttls()\n",
    "        server.login(sender, sndr_pswd)\n",
    "        message = 'Subject: {}\\n\\n{}'.format(subject, msg)\n",
    "        server.sendmail(sender, to, message)\n",
    "        server.quit()\n",
    "        print(\"Success: Email sent!\")\n",
    "    else:\n",
    "        # try-catch statement to catch SMTPAuthenticationError\n",
    "        try:\n",
    "            server = smtplib.SMTP('smtp.gmail.com:587')\n",
    "            server.ehlo()\n",
    "            server.starttls()\n",
    "            server.login(sender, sndr_pswd)\n",
    "            message = 'Subject: {}\\n\\n{}'.format(subject, msg)\n",
    "            server.sendmail(sender, to, message)\n",
    "            server.quit()\n",
    "            print(\"Success: Email sent!\")\n",
    "        except:\n",
    "            print(\"Email failed to send.\")\n",
    "    return None"
   ]
  },
  {
   "cell_type": "code",
   "execution_count": 3,
   "metadata": {},
   "outputs": [],
   "source": [
    "def read_config(config_file: str) -> dict:\n",
    "    '''\n",
    "    Reads the elements of a YAML configuration file.\n",
    "    \n",
    "    Args:\n",
    "        config_file: Filename (and path) to configuration file.\n",
    "    \n",
    "    Returns:\n",
    "        cfg: Dictionary of configuration file enteries\n",
    "    '''\n",
    "    \n",
    "    with open(config_file,\"r\") as file:\n",
    "        cfg = yaml.safe_load(file)\n",
    "        \n",
    "    return cfg"
   ]
  },
  {
   "cell_type": "code",
   "execution_count": 5,
   "metadata": {},
   "outputs": [],
   "source": [
    "def person_match(config_people: str) -> dict:\n",
    "    '''\n",
    "    Randomly matches a person with another person.\n",
    "    This function allows for a dictionary entry to exclude \n",
    "    another person should that be required.\n",
    "    \n",
    "    This function will run until all participants are assigned\n",
    "    a person.\n",
    "    \n",
    "    Args:\n",
    "        config_people: Input configuration file that contains names and email addresses of participants.\n",
    "    \n",
    "    Returns:\n",
    "        new_dict: Output dictionary that contains which person is matched to another person.\n",
    "    '''\n",
    "    # Read people config file\n",
    "    ppl_dict = read_config(config_file=config_people)\n",
    "    \n",
    "    # Set run condition\n",
    "    run_condition = True\n",
    "    while run_condition:\n",
    "        new_dict = {}\n",
    "        assigned = []\n",
    "        for p in ppl_dict.keys():\n",
    "            recips = []\n",
    "            if 'exclude' in ppl_dict[p]:\n",
    "                exclude = ppl_dict[p]['exclude']\n",
    "                exclude = list(exclude.split(\",\"))\n",
    "                recips = list(set(ppl_dict.keys()) - set(exclude) - set(assigned))\n",
    "            else:\n",
    "                recips = list(set(ppl_dict.keys()) - set(assigned))\n",
    "\n",
    "            try:\n",
    "                recips.remove(p)\n",
    "            except ValueError:\n",
    "                pass\n",
    "\n",
    "            try:\n",
    "                rand = random.randint(0, (len(recips))-1)\n",
    "                random_recip = recips[rand]\n",
    "                assigned.append(random_recip)\n",
    "                tmp_dict = {p: random_recip}\n",
    "                new_dict.update(tmp_dict)\n",
    "                del tmp_dict\n",
    "                run_condition = False\n",
    "            except ValueError:\n",
    "                run_condition = True\n",
    "                pass\n",
    "    return new_dict"
   ]
  },
  {
   "cell_type": "code",
   "execution_count": 27,
   "metadata": {},
   "outputs": [],
   "source": [
    "def send_test_email(config_file: str,\n",
    "                    config_people: str,\n",
    "                    dry_run: bool = False\n",
    "                   ) -> None:\n",
    "    '''\n",
    "    Sends test email to the email addesses in the 'config_people' config file.\n",
    "    \n",
    "    Args:\n",
    "        config_file: Configuration file that contains login credentials for (throwaway) G-mail account\n",
    "        config_people: Configuration file that contains names, and email addresses (and exclusion list)\n",
    "        dry_run: If true, names and recipients are printed. If false, then emails are sent.\n",
    "    \n",
    "    Returns:\n",
    "        None\n",
    "    '''\n",
    "    \n",
    "    auto = read_config(config_file=config_file)\n",
    "    ppl_dict = read_config(config_file=config_people)\n",
    "    \n",
    "    for p in ppl_dict.keys():\n",
    "        if dry_run is True:\n",
    "            print(f\"Sent test email to {p}\")\n",
    "        else:\n",
    "            msg = f\"Hi {p}, \\\n",
    "\\n\\n \\\n",
    "This is a test email. \\\n",
    "\\n\\n \\\n",
    "Please do not reply to this email.\"\n",
    "            subject = f\"Test email - Family Secret Santa Gift Exchange\"\n",
    "            send_email(auto['email'],auto['password'],\n",
    "                       ppl_dict[p]['email'],subject,msg)\n",
    "    return None"
   ]
  },
  {
   "cell_type": "code",
   "execution_count": 39,
   "metadata": {},
   "outputs": [],
   "source": [
    "def gift_exchange(config_file: str,\n",
    "                  config_people: str,\n",
    "                  dry_run: bool = False,\n",
    "                  test_email: bool = False,\n",
    "                  verbose: bool = False,\n",
    "                  budget: str = \"15.00\",\n",
    "                  year: int = 2020,\n",
    "                  debug: bool = False\n",
    "                 ) -> None:\n",
    "    '''\n",
    "    Randomized gift exchange function. Randomizes list of people and\n",
    "    matches one person to another.\n",
    "    \n",
    "    Args:\n",
    "        config_file: Configuration file that contains login credentials for (throwaway) G-mail account.\n",
    "        config_people: Configuration file that contains names, and email addresses (and exclusion list).\n",
    "        dry_run: If true, names and recipients are printed. If false, then emails are sent.\n",
    "        test_email: Sends test email to each person.\n",
    "        verbose: If true, prints additional information to screen.\n",
    "        budget: Dollar amount for the budget.\n",
    "        year: Year of the gift exchange.\n",
    "        debug: Enables debugging information.\n",
    "    \n",
    "    Returns:\n",
    "        None\n",
    "    '''\n",
    "    if test_email:\n",
    "        send_test_email(config_file=config_file,\n",
    "                        config_people=config_people,\n",
    "                        dry_run=dry_run)\n",
    "        return None\n",
    "    \n",
    "    auto = read_config(config_file=config_file)\n",
    "    ppl_dict = read_config(config_file=config_people)\n",
    "    \n",
    "    match_dict = person_match(config_people=config_people)\n",
    "    \n",
    "    # For each person, assemble a list of possible recipients.\n",
    "    for p in ppl_dict.keys():\n",
    "        random_recip = match_dict[p]\n",
    "        if dry_run:\n",
    "            print(f\"{p} gives to {random_recip}\")\n",
    "        else:\n",
    "            msg = f\"Hi {p}, \\n\\n \\\n",
    "You are giving to {random_recip}. \\\n",
    "\\n\\n \\\n",
    "The recommended budget is ${budget}, \\\n",
    "but please feel free to spend whatever amount is appropriate. \\\n",
    "\\n\\n \\\n",
    "Take care. \\\n",
    "\\n\\n \\\n",
    "-- \\\n",
    "\\n\\n \\\n",
    "This is an automated email. \\\n",
    "\\n\\n \\\n",
    "Please, do not reply to this email.\"\n",
    "            subject = f\"Family Secret Santa Gift Exchange {year}\"\n",
    "            send_email(sender=auto['email'],\n",
    "                       sndr_pswd=auto['password'],\n",
    "                       to=ppl_dict[p]['email'],\n",
    "                       subject=subject,\n",
    "                       msg=msg)\n",
    "            if verbose is True:\n",
    "                print(f\"Sent email to {p}\")\n",
    "    return None"
   ]
  },
  {
   "cell_type": "code",
   "execution_count": 9,
   "metadata": {},
   "outputs": [],
   "source": [
    "cfg_file = \"config.gift.yml\"\n",
    "ppl_file = \"config.people.yml\"\n",
    "\n",
    "# cfg_file = \"orig.files/config.gift.yml\"\n",
    "# ppl_file = \"orig.files/config.people.yml\""
   ]
  },
  {
   "cell_type": "markdown",
   "metadata": {},
   "source": [
    "# Gift Exchange\n",
    "-----"
   ]
  },
  {
   "cell_type": "markdown",
   "metadata": {},
   "source": [
    "## Send Test e-mails"
   ]
  },
  {
   "cell_type": "code",
   "execution_count": null,
   "metadata": {},
   "outputs": [],
   "source": []
  },
  {
   "cell_type": "code",
   "execution_count": null,
   "metadata": {},
   "outputs": [],
   "source": []
  },
  {
   "cell_type": "code",
   "execution_count": 29,
   "metadata": {
    "scrolled": true
   },
   "outputs": [
    {
     "name": "stdout",
     "output_type": "stream",
     "text": [
      "Success: Email sent!\n",
      "Success: Email sent!\n",
      "Success: Email sent!\n",
      "Success: Email sent!\n"
     ]
    }
   ],
   "source": [
    "gift_exchange(config_file=cfg_file,\n",
    "              config_people=ppl_file,\n",
    "              dry_run=False,\n",
    "              test_email=True,\n",
    "              verbose=True,\n",
    "              budget=15,\n",
    "              year=2020,\n",
    "              debug=False)"
   ]
  },
  {
   "cell_type": "markdown",
   "metadata": {},
   "source": [
    "## Send emails for Secret Santa"
   ]
  },
  {
   "cell_type": "code",
   "execution_count": 41,
   "metadata": {
    "scrolled": true
   },
   "outputs": [
    {
     "name": "stdout",
     "output_type": "stream",
     "text": [
      "Success: Email sent!\n",
      "Success: Email sent!\n",
      "Success: Email sent!\n",
      "Success: Email sent!\n"
     ]
    }
   ],
   "source": [
    "gift_exchange(config_file=cfg_file,\n",
    "              config_people=ppl_file,\n",
    "              dry_run=False,\n",
    "              test_email=False,\n",
    "              verbose=False,\n",
    "              budget=\"15.00\",\n",
    "              year=2020,\n",
    "              debug=False)"
   ]
  },
  {
   "cell_type": "code",
   "execution_count": null,
   "metadata": {},
   "outputs": [],
   "source": []
  }
 ],
 "metadata": {
  "kernelspec": {
   "display_name": "Python 3",
   "language": "python",
   "name": "python3"
  },
  "language_info": {
   "codemirror_mode": {
    "name": "ipython",
    "version": 3
   },
   "file_extension": ".py",
   "mimetype": "text/x-python",
   "name": "python",
   "nbconvert_exporter": "python",
   "pygments_lexer": "ipython3",
   "version": "3.7.3"
  }
 },
 "nbformat": 4,
 "nbformat_minor": 2
}
