{
 "cells": [
  {
   "cell_type": "markdown",
   "metadata": {},
   "source": [
    "# Import Packages & Modules"
   ]
  },
  {
   "cell_type": "code",
   "execution_count": 1,
   "metadata": {},
   "outputs": [],
   "source": [
    "import os\n",
    "import random\n",
    "import yaml\n",
    "\n",
    "import re\n",
    "from twilio.rest import Client\n",
    "from twilio.base.version import TwilioRestException"
   ]
  },
  {
   "cell_type": "code",
   "execution_count": 2,
   "metadata": {},
   "outputs": [],
   "source": [
    "from typing import (\n",
    "    Dict,\n",
    "    # Literal,\n",
    "    List,\n",
    "    Optional,\n",
    "    TypeVar,\n",
    "    # Union\n",
    ")"
   ]
  },
  {
   "cell_type": "markdown",
   "metadata": {},
   "source": [
    "## Define special ``types``"
   ]
  },
  {
   "cell_type": "code",
   "execution_count": 3,
   "metadata": {},
   "outputs": [],
   "source": [
    "PhoneNumber = TypeVar('PhoneNumber', bound=str)\n",
    "file = TypeVar('file', bound=str)\n",
    "exit_status = TypeVar('exit_status', bound=int)"
   ]
  },
  {
   "cell_type": "markdown",
   "metadata": {},
   "source": [
    "# Define classes"
   ]
  },
  {
   "cell_type": "code",
   "execution_count": 4,
   "metadata": {},
   "outputs": [],
   "source": [
    "class InvalidPhoneNumber(Exception):\n",
    "    \"\"\"Exception for invalid phone numbers.\"\"\"\n",
    "    pass"
   ]
  },
  {
   "cell_type": "markdown",
   "metadata": {},
   "source": [
    "# Define Functions"
   ]
  },
  {
   "cell_type": "code",
   "execution_count": 5,
   "metadata": {},
   "outputs": [],
   "source": [
    "def read_file_to_str(infile: file) -> str:\n",
    "    \"\"\"Reads the contents of a file and returns a string.\n",
    "    \"\"\"\n",
    "    infile: file = os.path.abspath(infile)\n",
    "    with open(infile,'r') as f:\n",
    "        t = f.readlines()\n",
    "        return ' '.join(t).strip('\\n')"
   ]
  },
  {
   "cell_type": "code",
   "execution_count": 6,
   "metadata": {},
   "outputs": [],
   "source": [
    "def _format_phone_number(num: str) -> PhoneNumber:\n",
    "    \"\"\"Helper function that formats a string to resemble a phone number \n",
    "    for use with Twilio's ``python`` API.\n",
    "    \"\"\"\n",
    "    num: PhoneNumber = re.sub(r'[^\\w]','',num) # Remove special characters and white space\n",
    "    \n",
    "    if not num.startswith(\"1\"):\n",
    "        num: PhoneNumber = f\"1{num}\" # Check if phone number starts with US country code\n",
    "    \n",
    "    if not num.startswith(\"+\"):\n",
    "        num: PhoneNumber = f\"+{num}\" # Check if '+' is prepended to phone number\n",
    "    \n",
    "    if len(num) != 12:\n",
    "        raise RuntimeError(f\"Preprocessed phone number is not 12 characters long: {num}\")\n",
    "    \n",
    "    return num"
   ]
  },
  {
   "cell_type": "code",
   "execution_count": 7,
   "metadata": {},
   "outputs": [],
   "source": [
    "def send_sms(to: PhoneNumber,\n",
    "             account_sid: str,\n",
    "             service_sid: str,\n",
    "             auth_token: str,\n",
    "             body: Optional[str] = None,\n",
    "             media: Optional[str] = None,\n",
    "             outgoing: Optional[PhoneNumber] = None\n",
    "            ) -> exit_status:\n",
    "    \"\"\"Utilizes the ``Twilio`` API to send SMS and/or MMS text messages to a known cell phone number.\n",
    "    Messages sent successfully will have an exit status of ``0`` and ``1`` otherwise.\n",
    "\n",
    "    NOTE: Account and service SIDs can be obtained from Twilio, alongside the authorization token.\n",
    "\n",
    "    Usage example:\n",
    "        >>> send_sms(to=\"+12346789012\",\n",
    "        ...          body=\"Hello world!\")\n",
    "\n",
    "    Arguments:\n",
    "        to: The intended recipient of the text message. **NOTE**: The input phone number **MUST** be 11 digits and be prefixed with '+'.\n",
    "        account_sid: ``Twilio`` API account service ID.\n",
    "        service_sid: ``Twilio`` API messaging service ID.\n",
    "        auth_token: ``Twilio`` API authentication token.\n",
    "        body: The body of the text message (i.e. the message).\n",
    "        media: HTTP link to multimedia (image, audio, video, ect).\n",
    "        outgoing: ``Twilio`` account ``PhoneNumber`` to be used in place of ``service_sid``. **NOTE**: The input phone number **MUST** be 11 digits and be prefixed with '+'.\n",
    "\n",
    "    Returns:\n",
    "        exit_status: 0 if successful, 1 otherwise.\n",
    "\n",
    "    Raises:\n",
    "        RuntimeError: Arises **IF** the: ``auth_token`` is not specified, OR ``media`` and ``body`` are not specified \n",
    "            OR ``service_sid`` or ``outgoing`` are not specified.\n",
    "    \"\"\"\n",
    "    # Check input arguments\n",
    "    if (service_sid is None) and (outgoing is None):\n",
    "        raise RuntimeError(f\"Neither the 'service_sid' nor the 'outgoing' phone number were provided.\")\n",
    "\n",
    "    if auth_token is None:\n",
    "        raise RuntimeError(\"No auth token provided.\")\n",
    "\n",
    "    if (media is None) and (body is None):\n",
    "        raise RuntimeError(\"No text body OR media was specified as an argument.\")\n",
    "\n",
    "    # Init client\n",
    "    client: Client = Client(account_sid, auth_token)\n",
    "\n",
    "    # Construct SMS/MMS\n",
    "    try:\n",
    "        message: Client.messages = client.messages \\\n",
    "                    .create(\n",
    "                         body=body,\n",
    "                         media_url=media,\n",
    "                         messaging_service_sid=service_sid,\n",
    "                         from_=outgoing,\n",
    "                         to=to\n",
    "                     )\n",
    "        exit_status: exit_status = 0\n",
    "    except TwilioRestException:\n",
    "        exit_status: exit_status = 1\n",
    "\n",
    "    return exit_status"
   ]
  },
  {
   "cell_type": "code",
   "execution_count": 8,
   "metadata": {},
   "outputs": [],
   "source": [
    "def read_config(config: file) -> Dict[str,str]:\n",
    "    \"\"\"Reads the contents of a YAML (configuration) file to\n",
    "    a dictionary.\n",
    "\n",
    "    Arguemnts:\n",
    "        config: Filename (and path) to configuration file.\n",
    "    \n",
    "    Returns:\n",
    "        Dictionary of strings matched valued pairs.\n",
    "    \"\"\"\n",
    "    config: str = os.path.abspath(\n",
    "        os.path.realpath(config)\n",
    "        )\n",
    "    \n",
    "    with open(config,\"r\") as file:\n",
    "        return yaml.safe_load(file)"
   ]
  },
  {
   "cell_type": "code",
   "execution_count": 15,
   "metadata": {},
   "outputs": [],
   "source": [
    "def peer_match(config: file) -> Dict[str,str]:\n",
    "    \"\"\"Performs random peer-to-peer (person-to-person) matching.\n",
    "    Peer exclusion is allowed if required with the ``exclude`` key\n",
    "    if required.\n",
    "\n",
    "    Arguments:\n",
    "        config: Filename (and path) to configuration file.\n",
    "\n",
    "    Returns:\n",
    "        Dictionary with string matched pairs of peers.\n",
    "    \"\"\"\n",
    "    # Read people config file\n",
    "    ppl_dict: Dict[str,str] = read_config(config=config)\n",
    "\n",
    "    # Set run condition\n",
    "    run_condition: bool = True\n",
    "    while run_condition:\n",
    "        new_dict: Dict = {}\n",
    "        assigned: List = []\n",
    "        for p in ppl_dict.keys():\n",
    "            recips = []\n",
    "            if 'exclude' in ppl_dict.get(p):\n",
    "                exclude: str = ppl_dict.get(p).get('exclude',None)\n",
    "\n",
    "                # NOTE: Split comma separated names, flatten into one list\n",
    "                exclude: List[str] = exclude.split(\" , \")\n",
    "                exclude: List[List[str]] = [name.split(\", \") for name in exclude]; exclude: List[str] = [item for sublist in exclude for item in sublist]\n",
    "                exclude: List[List[str]] = [name.split(\" ,\") for name in exclude]; exclude: List[str] = [item for sublist in exclude for item in sublist]\n",
    "                exclude: List[List[str]] = [name.split(\",\") for name in exclude]; exclude: List[str] = [item for sublist in exclude for item in sublist]\n",
    "                # exclude = list(exclude.split(\",\"))\n",
    "\n",
    "                recips: List[str] = list(set(ppl_dict.keys()) - set(exclude) - set(assigned))\n",
    "            else:\n",
    "                recips: List[str] = list(set(ppl_dict.keys()) - set(assigned))\n",
    "\n",
    "            try:\n",
    "                recips.remove(p)\n",
    "            except ValueError:\n",
    "                pass\n",
    "\n",
    "            try:\n",
    "                rand: int = random.randint(0, (len(recips))-1)\n",
    "                random_recip: str = recips[rand]\n",
    "                assigned.append(random_recip)\n",
    "                tmp_dict: Dict[str,str] = {p: random_recip}\n",
    "                new_dict.update(tmp_dict)\n",
    "                del tmp_dict\n",
    "                run_condition: bool = False\n",
    "            except ValueError:\n",
    "                run_condition: bool = True\n",
    "                pass\n",
    "    return new_dict"
   ]
  },
  {
   "cell_type": "code",
   "execution_count": 18,
   "metadata": {},
   "outputs": [],
   "source": [
    "def gift_exchange(config: str,\n",
    "                  account_sid: str,\n",
    "                  service_sid: str,\n",
    "                  auth_token: str,\n",
    "                  dry_run: bool = False,\n",
    "                  budget: float = 15.00,\n",
    "                  year: int = 2021,\n",
    "                  verbose: bool = False\n",
    "                 ) -> Dict[str,exit_status]:\n",
    "    \"\"\"Randomized gift exchange function. Matches a random person\n",
    "    to another person at random. The matched person is then texted,\n",
    "    with information about the gift to be given and who the recipient is.\n",
    "    \n",
    "    Arguments:\n",
    "        config: Configuration file that contains names, and phone numbers (and exclusion list(s)).\n",
    "        account_sid: ``Twilio`` API account service ID.\n",
    "        service_sid: ``Twilio`` API messaging service ID.\n",
    "        auth_token: ``Twilio`` API authentication token.\n",
    "        dry_run: If true, names and recipients are printed. If false, then text messages are sent.\n",
    "        budget: Dollar amount for the budget.\n",
    "        year: Year of the gift exchange.\n",
    "        verbose: Enables verbose output to interpreter.\n",
    "    \n",
    "    Returns:\n",
    "        Dictionary of pair matched strings to twilio exit statuses.\n",
    "    \"\"\"\n",
    "    # Read in credentials\n",
    "    if os.path.isfile(account_sid):\n",
    "        account_sid: str = read_file_to_str(infile='account.sid')\n",
    "    \n",
    "    if os.path.isfile(service_sid):\n",
    "        service_sid: str = read_file_to_str(infile='service.sid')\n",
    "    \n",
    "    if os.path.isfile(auth_token):\n",
    "        auth_token: str = read_file_to_str(infile='auth.token')\n",
    "    \n",
    "    # Format budget\n",
    "    budget: str = \"${:,.2f}\".format(float(budget))\n",
    "    \n",
    "    # Read information into dictionary\n",
    "    people: Dict[str,Dict[str,str]] = read_config(config=config)\n",
    "    person_match: Dict[str,str] = peer_match(config=config)\n",
    "\n",
    "    runtime_status: Dict = {}\n",
    "\n",
    "    # Iterate through peer-matched dictionaries and send\n",
    "    #   text messages\n",
    "    for person in people.keys():\n",
    "        phone_num: PhoneNumber = _format_phone_number(num=str(people.get(person).get('phone')))\n",
    "        peer: str = person_match.get(person)\n",
    "\n",
    "        message: str = f\"\"\"Hi {person},\n",
    "Welcome to the {int(year)} family gift exchange.\n",
    "This year, you will be gifting to {peer}.\n",
    "The recommended spending limit this year is {budget}.\n",
    "\n",
    "Gifts will be exchanged at family dinner Thursday, Dec. 2, 2021.\n",
    "        \"\"\"\n",
    "\n",
    "        if verbose:\n",
    "            print(f\"{person} gifts to {peer}.\")\n",
    "        \n",
    "        if dry_run:\n",
    "            status: exit_status = 1\n",
    "            tmp_dict: Dict[str,str] = {person: status}\n",
    "            runtime_status.update(tmp_dict)\n",
    "        else:\n",
    "            status: exit_status = send_sms(to=phone_num,\n",
    "                                           account_sid=account_sid,\n",
    "                                           service_sid=service_sid,\n",
    "                                           auth_token=auth_token,\n",
    "                                           body=message)\n",
    "            \n",
    "            tmp_dict: Dict[str,str] = {person: status}\n",
    "            runtime_status.update(tmp_dict)\n",
    "    return runtime_status"
   ]
  },
  {
   "cell_type": "markdown",
   "metadata": {},
   "source": [
    "# Gift Exchange\n",
    "-----"
   ]
  },
  {
   "cell_type": "markdown",
   "metadata": {},
   "source": [
    "## Dry run of secret santa"
   ]
  },
  {
   "cell_type": "code",
   "execution_count": 28,
   "metadata": {},
   "outputs": [],
   "source": [
    "# This file contains names and phone numbers\n",
    "# conf: str = 'config.people.yml'\n",
    "\n",
    "# This file contains FAKE names and phone numbers\n",
    "conf: str = 'config.test.yml'"
   ]
  },
  {
   "cell_type": "code",
   "execution_count": 29,
   "metadata": {},
   "outputs": [
    {
     "name": "stdout",
     "output_type": "stream",
     "text": [
      "Person1 gifts to Person2.\n",
      "Person2 gifts to Person1.\n"
     ]
    },
    {
     "data": {
      "text/plain": [
       "{'Person1': 1, 'Person2': 1}"
      ]
     },
     "execution_count": 29,
     "metadata": {},
     "output_type": "execute_result"
    }
   ],
   "source": [
    "gift_exchange(config=conf,\n",
    "            account_sid='account.sid',\n",
    "            service_sid='service.sid',\n",
    "            auth_token='auth.token',\n",
    "            budget=10.00,\n",
    "            year=2021,\n",
    "            verbose=True,\n",
    "            dry_run=True)"
   ]
  },
  {
   "cell_type": "markdown",
   "metadata": {},
   "source": [
    "## Send text messages for Secret Santa"
   ]
  },
  {
   "cell_type": "code",
   "execution_count": 41,
   "metadata": {
    "scrolled": true
   },
   "outputs": [
    {
     "name": "stdout",
     "output_type": "stream",
     "text": [
      "Success: Email sent!\n",
      "Success: Email sent!\n",
      "Success: Email sent!\n",
      "Success: Email sent!\n"
     ]
    }
   ],
   "source": [
    "# gift_exchange(config=conf,\n",
    "#             account_sid='account.sid',\n",
    "#             service_sid='service.sid',\n",
    "#             auth_token='auth.token',\n",
    "#             budget=10.00,\n",
    "#             year=2021,\n",
    "#             verbose=True,\n",
    "#             dry_run=True)"
   ]
  },
  {
   "cell_type": "code",
   "execution_count": null,
   "metadata": {},
   "outputs": [],
   "source": []
  }
 ],
 "metadata": {
  "kernelspec": {
   "display_name": "Python 3",
   "language": "python",
   "name": "python3"
  },
  "language_info": {
   "codemirror_mode": {
    "name": "ipython",
    "version": 3
   },
   "file_extension": ".py",
   "mimetype": "text/x-python",
   "name": "python",
   "nbconvert_exporter": "python",
   "pygments_lexer": "ipython3",
   "version": "3.8.10"
  }
 },
 "nbformat": 4,
 "nbformat_minor": 2
}
