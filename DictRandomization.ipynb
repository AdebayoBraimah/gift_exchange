{
 "cells": [
  {
   "cell_type": "code",
   "execution_count": 1,
   "id": "0c7a3a60",
   "metadata": {},
   "outputs": [],
   "source": [
    "import os\n",
    "import random\n",
    "import yaml\n",
    "\n",
    "import re\n",
    "import pandas as pd\n",
    "import dropbox\n",
    "from twilio.rest import Client\n",
    "from twilio.base.version import TwilioRestException"
   ]
  },
  {
   "cell_type": "code",
   "execution_count": 2,
   "id": "ceb20d62",
   "metadata": {},
   "outputs": [],
   "source": [
    "from typing import (\n",
    "    Dict,\n",
    "    Literal,\n",
    "    List,\n",
    "    Optional,\n",
    "    TypeVar,\n",
    "    Union\n",
    ")"
   ]
  },
  {
   "cell_type": "code",
   "execution_count": 3,
   "id": "c44a85f9",
   "metadata": {},
   "outputs": [],
   "source": [
    "PhoneNumber = TypeVar('PhoneNumber', bound=str)\n",
    "file = TypeVar('file', bound=str)\n",
    "exit_status = TypeVar('exit_status', bound=int)"
   ]
  },
  {
   "cell_type": "code",
   "execution_count": 4,
   "id": "04e4613a",
   "metadata": {},
   "outputs": [],
   "source": [
    "class InvalidPhoneNumber(Exception):\n",
    "    \"\"\"Exception for invalid phone numbers.\"\"\"\n",
    "    pass"
   ]
  },
  {
   "cell_type": "code",
   "execution_count": 5,
   "id": "6188ac37",
   "metadata": {},
   "outputs": [],
   "source": [
    "def read_file_to_str(infile: file) -> str:\n",
    "    \"\"\"Reads the contents of a file and returns a string.\n",
    "    \"\"\"\n",
    "    infile: file = os.path.abspath(infile)\n",
    "    with open(infile,'r') as f:\n",
    "        t = f.readlines()\n",
    "        return ' '.join(t).strip('\\n')"
   ]
  },
  {
   "cell_type": "code",
   "execution_count": 6,
   "id": "9ef2c1c0",
   "metadata": {},
   "outputs": [],
   "source": [
    "def _format_phone_number(num: str) -> PhoneNumber:\n",
    "    \"\"\"Helper function that formats a string to resemble a phone number \n",
    "    for use with Twilio's ``python`` API.\n",
    "    \"\"\"\n",
    "    num: PhoneNumber = re.sub(r'[^\\w]','',num) # Remove special characters and white space\n",
    "    \n",
    "    if not num.startswith(\"1\"):\n",
    "        num: PhoneNumber = f\"1{num}\" # Check if phone number starts with US country code\n",
    "    \n",
    "    if not num.startswith(\"+\"):\n",
    "        num: PhoneNumber = f\"+{num}\" # Check if '+' is prepended to phone number\n",
    "    \n",
    "    if len(num) != 12:\n",
    "        raise RuntimeError(f\"Preprocessed phone number is not 12 characters long: {num}\")\n",
    "    \n",
    "    return num"
   ]
  },
  {
   "cell_type": "code",
   "execution_count": 7,
   "id": "16abea6c",
   "metadata": {},
   "outputs": [],
   "source": [
    "def send_sms(to: PhoneNumber,\n",
    "             account_sid: str,\n",
    "             service_sid: str,\n",
    "             auth_token: str,\n",
    "             body: Optional[str] = None,\n",
    "             media: Optional[str] = None,\n",
    "             outgoing: Optional[PhoneNumber] = None\n",
    "            ) -> exit_status:\n",
    "    \"\"\"Utilizes the ``Twilio`` API to send SMS and/or MMS text messages to a known cell phone number.\n",
    "    Messages sent successfully will have an exit status of ``0`` and ``1`` otherwise.\n",
    "\n",
    "    NOTE: Account and service SIDs can be obtained from Twilio, alongside the authorization token.\n",
    "\n",
    "    Usage example:\n",
    "        >>> send_sms(to=\"+12346789012\",\n",
    "        ...          body=\"Hello world!\")\n",
    "\n",
    "    Arguments:\n",
    "        to: The intended recipient of the text message. **NOTE**: The input phone number **MUST** be 11 digits and be prefixed with '+'.\n",
    "        account_sid: ``Twilio`` API account service ID.\n",
    "        service_sid: ``Twilio`` API messaging service ID.\n",
    "        auth_token: ``Twilio`` API authentication token.\n",
    "        body: The body of the text message (i.e. the message).\n",
    "        media: HTTP link to multimedia (image, audio, video, ect).\n",
    "        outgoing: ``Twilio`` account ``PhoneNumber`` to be used in place of ``service_sid``. **NOTE**: The input phone number **MUST** be 11 digits and be prefixed with '+'.\n",
    "\n",
    "    Returns:\n",
    "        exit_status: 0 if successful, 1 otherwise.\n",
    "\n",
    "    Raises:\n",
    "        RuntimeError: Arises **IF** the: ``auth_token`` is not specified, OR ``media`` and ``body`` are not specified \n",
    "            OR ``service_sid`` or ``outgoing`` are not specified.\n",
    "    \"\"\"\n",
    "    # Check input arguments\n",
    "    if (service_sid is None) and (outgoing is None):\n",
    "        raise RuntimeError(f\"Neither the 'service_sid' nor the 'outgoing' phone number were provided.\")\n",
    "\n",
    "    if auth_token is None:\n",
    "        raise RuntimeError(\"No auth token provided.\")\n",
    "\n",
    "    if (media is None) and (body is None):\n",
    "        raise RuntimeError(\"No text body OR media was specified as an argument.\")\n",
    "\n",
    "    # Init client\n",
    "    client: Client = Client(account_sid, auth_token)\n",
    "\n",
    "    # Construct SMS/MMS\n",
    "    try:\n",
    "        message: Client.messages = client.messages \\\n",
    "                    .create(\n",
    "                         body=body,\n",
    "                         media_url=media,\n",
    "                         messaging_service_sid=service_sid,\n",
    "                         from_=outgoing,\n",
    "                         to=to\n",
    "                     )\n",
    "        exit_status: exit_status = 0\n",
    "    except TwilioRestException:\n",
    "        exit_status: exit_status = 1\n",
    "\n",
    "    return exit_status"
   ]
  },
  {
   "cell_type": "code",
   "execution_count": 8,
   "id": "de40020d",
   "metadata": {},
   "outputs": [],
   "source": [
    "def get_dropbox_img_tmp_links(access_token: str,\n",
    "                              media_files: Optional[List[file]] = None\n",
    "                             ) -> List:\n",
    "    \"\"\"Creates/retrieves temporary HTTP links for files in a dropbox app folder. \n",
    "    If no media files are specified, then all of the files in the dropbox folder will have\n",
    "    temporary links returned.\n",
    "    \n",
    "    NOTE: \n",
    "        Dropbox ``access_token`` can be found here: https://www.dropbox.com/developers/apps/info/uxjgz81z83cd6pa#settings\n",
    "    \"\"\"\n",
    "    dbx: dropbox.Dropbox = dropbox.Dropbox(access_token)\n",
    "    \n",
    "    if (media_files is None):\n",
    "        media_files: List[str] = []\n",
    "    \n",
    "    if len(media_files) == 0:\n",
    "        for entry in dbx.files_list_folder('').entries:\n",
    "            media_files.append(entry.path_display)\n",
    "    \n",
    "    media_files.sort()\n",
    "    \n",
    "    tmp_lnks: List[str] = []\n",
    "        \n",
    "    for media_file in media_files:\n",
    "        tmp_lnk: str = dbx.files_get_temporary_link(media_file)\n",
    "        tmp_lnks.append(tmp_lnk.link)\n",
    "    \n",
    "    return tmp_lnks"
   ]
  },
  {
   "cell_type": "code",
   "execution_count": 9,
   "id": "1b4c7b57",
   "metadata": {},
   "outputs": [],
   "source": [
    "def send_mass_msg(csv_file: file,\n",
    "                  account_sid: str,\n",
    "                  service_sid: str,\n",
    "                  auth_token: str,\n",
    "                  message: str,\n",
    "                  dry_run: Optional[bool] = False,\n",
    "                  outgoing: Optional[PhoneNumber] = None,\n",
    "                  dbx_access_token: Optional[str] = None,\n",
    "                  media_files: Optional[List[file]] = None,\n",
    "                  verbose: Optional[bool] = None\n",
    "                 ) -> Dict[str,List[Literal[exit_status]]]:\n",
    "    \"\"\"Description\n",
    "    NOTE: \n",
    "        Dropbox ``access_token`` can be found here: https://www.dropbox.com/developers/apps/info/uxjgz81z83cd6pa#settings\n",
    "    \"\"\"\n",
    "    csv_file: file = os.path.abspath(csv_file)\n",
    "    df: pd.DataFrame = pd.read_csv(csv_file)\n",
    "    msg_status: Dict[str,Dict[str,Union[List[exit_status],exit_status]]] = {}\n",
    "    \n",
    "    if os.path.isfile(account_sid):\n",
    "        account_sid: str = read_file_to_str(infile='account.sid')\n",
    "    \n",
    "    if os.path.isfile(service_sid):\n",
    "        service_sid: str = read_file_to_str(infile='service.sid')\n",
    "    \n",
    "    if os.path.isfile(auth_token):\n",
    "        auth_token: str = read_file_to_str(infile='auth.token')\n",
    "    \n",
    "    if list(df.columns)[0] != 'contact':\n",
    "        raise RuntimeError(f\"First column should be 'contact', and not {list(df.columns)[0]}.\")\n",
    "    elif list(df.columns)[1] != 'name':\n",
    "        raise RuntimeError(f\"Second column should be 'name', and not {list(df.columns)[1]}.\")\n",
    "    elif list(df.columns)[2] != 'number':\n",
    "        raise RuntimeError(f\"Third column should be 'number', and not {list(df.columns)[2]}.\")\n",
    "    \n",
    "    # Check for multimedia\n",
    "    if (dbx_access_token is not None) and (not dry_run):\n",
    "        img_lnks: List[str] = get_dropbox_img_tmp_links(access_token=dbx_access_token, media_files=media_files)\n",
    "    else:\n",
    "        img_lnks: List[str] = []\n",
    "    \n",
    "    for _,r in df.iterrows():\n",
    "        contact: str = r['contact']\n",
    "        name: str = r['name']\n",
    "        phone_number: PhoneNumber = r['number']\n",
    "        \n",
    "        try:\n",
    "            phone_number: PhoneNumber = _format_phone_number(num=phone_number)\n",
    "        except InvalidPhoneNumber:\n",
    "            print(f\"{contact} has an invalid phone number: {phone_number}\")\n",
    "            continue\n",
    "        \n",
    "        if dry_run:\n",
    "            txt_status: exit_status = 1\n",
    "            img_statuses: List[exit_status] = [1]\n",
    "        \n",
    "        if verbose:\n",
    "            print(f\"\\nName: {name}\")\n",
    "            print(f\"Phone number: {phone_number}\")\n",
    "            print(f\"message: {message}\")\n",
    "        \n",
    "        if not dry_run:\n",
    "            # Send MMS (if required)\n",
    "            img_statuses: List[exit_status] = []\n",
    "            for img_lnk in img_lnks:\n",
    "                img_status: exit_status = send_sms(to=phone_number,\n",
    "                                                   account_sid=account_sid,\n",
    "                                                   service_sid=service_sid,\n",
    "                                                   auth_token=auth_token,\n",
    "                                                   media=img_lnk,\n",
    "                                                   outgoing=outgoing)\n",
    "                img_statuses.append(img_status)\n",
    "\n",
    "            # Send SMS\n",
    "            txt_status: exit_status = send_sms(to=phone_number,\n",
    "                                               account_sid=account_sid,\n",
    "                                               service_sid=service_sid,\n",
    "                                               auth_token=auth_token,\n",
    "                                               body=message,\n",
    "                                               outgoing=outgoing)\n",
    "        \n",
    "        # Update status dictionary\n",
    "        tmp_dict: Dict[str,Dict[Union[List[exit_status],exit_status]]] = {\n",
    "            contact: {\n",
    "                \"SMS status\": txt_status,\n",
    "                \"MMS statues\": img_statuses\n",
    "            }\n",
    "        }\n",
    "        \n",
    "        msg_status.update(tmp_dict)\n",
    "    return msg_status"
   ]
  },
  {
   "cell_type": "code",
   "execution_count": 10,
   "id": "d8fea266",
   "metadata": {},
   "outputs": [],
   "source": [
    "def read_config(config: file) -> Dict[str,str]:\n",
    "    \"\"\"Reads the contents of a YAML (configuration) file to\n",
    "    a dictionary.\n",
    "\n",
    "    Arguemnts:\n",
    "        config: Filename (and path) to configuration file.\n",
    "    \n",
    "    Returns:\n",
    "        Dictionary of strings matched valued pairs.\n",
    "    \"\"\"\n",
    "    config: str = os.path.abspath(\n",
    "        os.path.realpath(config)\n",
    "        )\n",
    "    \n",
    "    with open(config,\"r\") as file:\n",
    "        # cfg: Dict[str,str] = yaml.safe_load(file) \n",
    "        return yaml.safe_load(file)"
   ]
  },
  {
   "cell_type": "code",
   "execution_count": 11,
   "id": "8b6aa9a3",
   "metadata": {},
   "outputs": [],
   "source": [
    "# cfg = 'config.people.yml'\n",
    "cfg = 'config.test.yml'"
   ]
  },
  {
   "cell_type": "code",
   "execution_count": 12,
   "id": "ee00d751",
   "metadata": {},
   "outputs": [
    {
     "data": {
      "text/plain": [
       "{'Adebayo': {'phone': 6203916062}, 'Billie': {'phone': 6203916062}}"
      ]
     },
     "execution_count": 12,
     "metadata": {},
     "output_type": "execute_result"
    }
   ],
   "source": [
    "read_config(config=cfg)"
   ]
  },
  {
   "cell_type": "code",
   "execution_count": 13,
   "id": "c085471f",
   "metadata": {},
   "outputs": [],
   "source": [
    "def peer_match(config: file) -> Dict[str,str]:\n",
    "    \"\"\"Performs random peer-to-peer (person-to-person) matching.\n",
    "    Peer exclusion is allowed if required with the ``exclude`` key\n",
    "    if required.\n",
    "\n",
    "    Arguments:\n",
    "        config: Filename (and path) to configuration file.\n",
    "\n",
    "    Returns:\n",
    "        Dictionary with string matched pairs of peers.\n",
    "    \"\"\"\n",
    "    # Read people config file\n",
    "    ppl_dict: Dict[str,str] = read_config(config=cfg)\n",
    "\n",
    "    # Set run condition\n",
    "    run_condition: bool = True\n",
    "    while run_condition:\n",
    "        new_dict: Dict = {}\n",
    "        assigned: List = []\n",
    "        for p in ppl_dict.keys():\n",
    "            recips = []\n",
    "            if 'exclude' in ppl_dict.get(p):\n",
    "                exclude: str = ppl_dict.get(p).get('exclude',None)\n",
    "\n",
    "                # NOTE: Split comma separated names, flatten into one list\n",
    "                exclude: List[str] = exclude.split(\" , \")\n",
    "                exclude: List[List[str]] = [name.split(\", \") for name in exclude]; exclude: List[str] = [item for sublist in exclude for item in sublist]\n",
    "                exclude: List[List[str]] = [name.split(\" ,\") for name in exclude]; exclude: List[str] = [item for sublist in exclude for item in sublist]\n",
    "                exclude: List[List[str]] = [name.split(\",\") for name in exclude]; exclude: List[str] = [item for sublist in exclude for item in sublist]\n",
    "                # exclude = list(exclude.split(\",\"))\n",
    "\n",
    "                recips: List[str] = list(set(ppl_dict.keys()) - set(exclude) - set(assigned))\n",
    "            else:\n",
    "                recips: List[str] = list(set(ppl_dict.keys()) - set(assigned))\n",
    "\n",
    "            try:\n",
    "                recips.remove(p)\n",
    "            except ValueError:\n",
    "                pass\n",
    "\n",
    "            try:\n",
    "                rand: int = random.randint(0, (len(recips))-1)\n",
    "                random_recip: str = recips[rand]\n",
    "                assigned.append(random_recip)\n",
    "                tmp_dict: Dict[str,str] = {p: random_recip}\n",
    "                new_dict.update(tmp_dict)\n",
    "                del tmp_dict\n",
    "                run_condition: bool = False\n",
    "            except ValueError:\n",
    "                run_condition: bool = True\n",
    "                pass\n",
    "    return new_dict"
   ]
  },
  {
   "cell_type": "code",
   "execution_count": 14,
   "id": "f0b2409f",
   "metadata": {},
   "outputs": [
    {
     "data": {
      "text/plain": [
       "{'Adebayo': 'Billie', 'Billie': 'Adebayo'}"
      ]
     },
     "execution_count": 14,
     "metadata": {},
     "output_type": "execute_result"
    }
   ],
   "source": [
    "peer_match(cfg)"
   ]
  },
  {
   "cell_type": "code",
   "execution_count": null,
   "id": "5c40153d",
   "metadata": {},
   "outputs": [],
   "source": []
  },
  {
   "cell_type": "code",
   "execution_count": 39,
   "id": "164cb888",
   "metadata": {},
   "outputs": [],
   "source": [
    "s = \"Hanna(h) V, Hannah L, Billie, Adebayo\""
   ]
  },
  {
   "cell_type": "code",
   "execution_count": 41,
   "id": "219d0f83",
   "metadata": {},
   "outputs": [
    {
     "data": {
      "text/plain": [
       "['Hannah V', 'Hannah L', 'Billie', 'Adebayo']"
      ]
     },
     "execution_count": 41,
     "metadata": {},
     "output_type": "execute_result"
    }
   ],
   "source": [
    "s.split(\", \")"
   ]
  },
  {
   "cell_type": "code",
   "execution_count": 78,
   "id": "a49832af",
   "metadata": {},
   "outputs": [],
   "source": [
    "s1 = \"Hannah V,Hannah L,Billie,Adebayo, Betsy, Wayne, Big Man\""
   ]
  },
  {
   "cell_type": "code",
   "execution_count": 79,
   "id": "59a66c3e",
   "metadata": {},
   "outputs": [
    {
     "data": {
      "text/plain": [
       "['Hannah V', 'Hannah L', 'Billie', 'Adebayo', 'Betsy', 'Wayne', 'Big Man']"
      ]
     },
     "execution_count": 79,
     "metadata": {},
     "output_type": "execute_result"
    }
   ],
   "source": [
    "s1 = s1.split(\" , \")\n",
    "s1 = [ name.split(\" ,\") for name in s1 ]; s1 = [item for sublist in s1 for item in sublist]\n",
    "s1 = [ name.split(\", \") for name in s1 ]; s1 = [item for sublist in s1 for item in sublist]\n",
    "s1 = [ name.split(\",\") for name in s1 ]; s1 = [item for sublist in s1 for item in sublist]\n",
    "# s1 = s1.split(\",\")\n",
    "s1"
   ]
  },
  {
   "cell_type": "code",
   "execution_count": null,
   "id": "d939fead",
   "metadata": {},
   "outputs": [],
   "source": [
    "s1 = s1.split(\" , \")\n",
    "s1 = [ name.split(\" ,\") for name in s1 ]; s1 = [item for sublist in s1 for item in sublist]\n",
    "s1 = [ name.split(\", \") for name in s1 ]; s1 = [item for sublist in s1 for item in sublist]\n",
    "s1 = [ name.split(\",\") for name in s1 ]; s1 = [item for sublist in s1 for item in sublist]"
   ]
  },
  {
   "cell_type": "code",
   "execution_count": 17,
   "id": "13ab459c",
   "metadata": {},
   "outputs": [],
   "source": [
    "def gift_exchange(config: str,\n",
    "                  account_sid: str,\n",
    "                  service_sid: str,\n",
    "                  auth_token: str,\n",
    "                  dry_run: bool = False,\n",
    "                  budget: float = 15.00,\n",
    "                  year: int = 2021,\n",
    "                 ) -> Dict[str,exit_status]:\n",
    "    \"\"\"Randomized gift exchange function. Matches a random person\n",
    "    to another person at random. The matched person is then texted,\n",
    "    with information about the gift to be given and who the recipient is.\n",
    "    \n",
    "    Arguments:\n",
    "        config: Configuration file that contains names, and phone numbers (and exclusion list(s)).\n",
    "        account_sid: ``Twilio`` API account service ID.\n",
    "        service_sid: ``Twilio`` API messaging service ID.\n",
    "        auth_token: ``Twilio`` API authentication token.\n",
    "        dry_run: If true, names and recipients are printed. If false, then text messages are sent.\n",
    "        budget: Dollar amount for the budget.\n",
    "        year: Year of the gift exchange.\n",
    "    \n",
    "    Returns:\n",
    "        None\n",
    "    \"\"\"\n",
    "    # Read in credentials\n",
    "    if os.path.isfile(account_sid):\n",
    "        account_sid: str = read_file_to_str(infile='account.sid')\n",
    "    \n",
    "    if os.path.isfile(service_sid):\n",
    "        service_sid: str = read_file_to_str(infile='service.sid')\n",
    "    \n",
    "    if os.path.isfile(auth_token):\n",
    "        auth_token: str = read_file_to_str(infile='auth.token')\n",
    "    \n",
    "    # Format budget\n",
    "    budget: str = \"${:,.2f}\".format(float(budget))\n",
    "    \n",
    "    # Read information into dictionary\n",
    "    people: Dict[str,Dict[str,str]] = read_config(config=config)\n",
    "    person_match: Dict[str,str] = peer_match(config=config)\n",
    "\n",
    "    runtime_status: Dict = {}\n",
    "\n",
    "    # Iterate through peer-matched dictionaries and send\n",
    "    #   text messages\n",
    "    for person in people.keys():\n",
    "        phone_num: PhoneNumber = _format_phone_number(num=str(people.get(person).get('phone')))\n",
    "        peer: str = person_match.get(person)\n",
    "\n",
    "        message: str = f\"\"\"Hi {person},\n",
    "Welcome to the {int(year)} family gift exchange.\n",
    "This year, you will be gifting to {peer}.\n",
    "The recommended spending limit this year is {budget}.\n",
    "\n",
    "Gifts will be exchanged at family dinner Thursday, Dec. 2, 2021.\n",
    "        \"\"\"\n",
    "\n",
    "        if dry_run:\n",
    "            status: exit_status = 1\n",
    "            tmp_dict: Dict[str,str] = {person: status}\n",
    "            runtime_status.update(tmp_dict)\n",
    "            print(f\"{person} gifts to {peer}.\")\n",
    "        else:\n",
    "            status: exit_status = send_sms(to=phone_num,\n",
    "                                           account_sid=account_sid,\n",
    "                                           service_sid=service_sid,\n",
    "                                           auth_token=auth_token,\n",
    "                                           body=message)\n",
    "            \n",
    "            tmp_dict: Dict[str,str] = {person: status}\n",
    "            runtime_status.update(tmp_dict)\n",
    "    return runtime_status"
   ]
  },
  {
   "cell_type": "code",
   "execution_count": 20,
   "id": "23b54fe6",
   "metadata": {},
   "outputs": [
    {
     "data": {
      "text/plain": [
       "{'Adebayo': 0, 'Billie': 0}"
      ]
     },
     "execution_count": 20,
     "metadata": {},
     "output_type": "execute_result"
    }
   ],
   "source": [
    "gift_exchange(config=cfg,\n",
    "            account_sid='account.sid',\n",
    "            service_sid='service.sid',\n",
    "            auth_token='auth.token',\n",
    "            budget=10.00,\n",
    "            year=2021,\n",
    "            dry_run=False)"
   ]
  },
  {
   "cell_type": "code",
   "execution_count": null,
   "id": "95908d89",
   "metadata": {},
   "outputs": [],
   "source": []
  },
  {
   "cell_type": "code",
   "execution_count": 38,
   "id": "155882f0",
   "metadata": {},
   "outputs": [
    {
     "data": {
      "text/plain": [
       "{'Adebayo': {'phone': 6203916062, 'exclude': 'Adebayo'},\n",
       " 'Billie': {'phone': 6203916062}}"
      ]
     },
     "execution_count": 38,
     "metadata": {},
     "output_type": "execute_result"
    }
   ],
   "source": [
    "people: Dict[str,Dict[str,str]] = read_config(config=cfg)\n",
    "people"
   ]
  },
  {
   "cell_type": "code",
   "execution_count": 39,
   "id": "3a08d829",
   "metadata": {},
   "outputs": [
    {
     "data": {
      "text/plain": [
       "{'Adebayo': 'Billie', 'Billie': 'Adebayo'}"
      ]
     },
     "execution_count": 39,
     "metadata": {},
     "output_type": "execute_result"
    }
   ],
   "source": [
    "person_match: Dict[str,str] = peer_match(config=cfg)\n",
    "person_match"
   ]
  },
  {
   "cell_type": "code",
   "execution_count": 40,
   "id": "df196e25",
   "metadata": {},
   "outputs": [
    {
     "name": "stdout",
     "output_type": "stream",
     "text": [
      "Adebayo\n",
      "Billie\n"
     ]
    }
   ],
   "source": [
    "for person in people.keys():\n",
    "    print(person)"
   ]
  },
  {
   "cell_type": "code",
   "execution_count": 36,
   "id": "a618293a",
   "metadata": {},
   "outputs": [
    {
     "data": {
      "text/plain": [
       "'Billie'"
      ]
     },
     "execution_count": 36,
     "metadata": {},
     "output_type": "execute_result"
    }
   ],
   "source": [
    "person_match.get('Adebayo')"
   ]
  },
  {
   "cell_type": "code",
   "execution_count": 48,
   "id": "2bec3e28",
   "metadata": {},
   "outputs": [
    {
     "name": "stdout",
     "output_type": "stream",
     "text": [
      "6203916062\n",
      "6203916062\n"
     ]
    }
   ],
   "source": [
    "for key,val in people.items():\n",
    "    print(people.get(key).get('phone'))"
   ]
  },
  {
   "cell_type": "code",
   "execution_count": 57,
   "id": "537a74f9",
   "metadata": {},
   "outputs": [
    {
     "name": "stdout",
     "output_type": "stream",
     "text": [
      "15.0\n"
     ]
    }
   ],
   "source": [
    "f = \"15.00304\"\n",
    "print(f\"{round(float(f),2)}\")"
   ]
  },
  {
   "cell_type": "code",
   "execution_count": 61,
   "id": "4f1db4d6",
   "metadata": {},
   "outputs": [
    {
     "data": {
      "text/plain": [
       "'$89.00'"
      ]
     },
     "execution_count": 61,
     "metadata": {},
     "output_type": "execute_result"
    }
   ],
   "source": [
    "\"${:,.2f}\".format(float(89))"
   ]
  },
  {
   "cell_type": "code",
   "execution_count": null,
   "id": "050a04ff",
   "metadata": {},
   "outputs": [],
   "source": []
  }
 ],
 "metadata": {
  "interpreter": {
   "hash": "d74d454bdf6082ff3aeb3787562ff7694dde8310e3a05412999967c1b6a37f8b"
  },
  "kernelspec": {
   "display_name": "Python 3.8.10 64-bit ('base': conda)",
   "language": "python",
   "name": "python3"
  },
  "language_info": {
   "codemirror_mode": {
    "name": "ipython",
    "version": 3
   },
   "file_extension": ".py",
   "mimetype": "text/x-python",
   "name": "python",
   "nbconvert_exporter": "python",
   "pygments_lexer": "ipython3",
   "version": "3.8.10"
  }
 },
 "nbformat": 4,
 "nbformat_minor": 5
}
