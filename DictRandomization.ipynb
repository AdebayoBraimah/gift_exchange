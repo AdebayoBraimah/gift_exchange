{
 "cells": [
  {
   "cell_type": "code",
   "execution_count": 3,
   "metadata": {},
   "outputs": [],
   "source": [
    "import os\n",
    "import random\n",
    "import yaml"
   ]
  },
  {
   "cell_type": "code",
   "execution_count": 2,
   "id": "ceb20d62",
   "metadata": {},
   "outputs": [],
   "source": [
    "from typing import (\n",
    "    Dict\n",
    ")"
   ]
  },
  {
   "cell_type": "code",
   "execution_count": 7,
   "id": "d8fea266",
   "metadata": {},
   "outputs": [],
   "source": [
    "def read_config(config: str) -> Dict[str,str]:\n",
    "    \"\"\"Reads the contents of a YAML (configuration) file to\n",
    "    a dictionary.\n",
    "\n",
    "    Arguemnts:\n",
    "        config: Filename (and path) to configuration file.\n",
    "    \n",
    "    Returns:\n",
    "        Dictionary of strings matched valued pairs.\n",
    "    \"\"\"\n",
    "    config: str = os.path.abspath(\n",
    "        os.path.realpath(config)\n",
    "        )\n",
    "    \n",
    "    with open(config,\"r\") as file:\n",
    "        cfg: Dict[str,str] = yaml.safe_load(file) \n",
    "    return cfg"
   ]
  },
  {
   "cell_type": "code",
   "execution_count": 8,
   "id": "8b6aa9a3",
   "metadata": {},
   "outputs": [],
   "source": [
    "cfg = 'config.people.yml'"
   ]
  },
  {
   "cell_type": "code",
   "execution_count": 9,
   "id": "ee00d751",
   "metadata": {},
   "outputs": [
    {
     "data": {
      "text/plain": [
       "{'Person1': {'email': 'Person1@mail.com', 'exclude': 'Person2'},\n",
       " 'Person2': {'email': 'Person2@mail.com'},\n",
       " 'Person3': {'email': 'Person3@mail.com'},\n",
       " 'Person4': {'email': 'Person4@mail.com'}}"
      ]
     },
     "execution_count": 9,
     "metadata": {},
     "output_type": "execute_result"
    }
   ],
   "source": [
    "read_config(config=cfg)"
   ]
  },
  {
   "cell_type": "code",
   "execution_count": null,
   "id": "c085471f",
   "metadata": {},
   "outputs": [],
   "source": []
  }
 ],
 "metadata": {
  "interpreter": {
   "hash": "d74d454bdf6082ff3aeb3787562ff7694dde8310e3a05412999967c1b6a37f8b"
  },
  "kernelspec": {
   "display_name": "Python 3.8.10 64-bit ('base': conda)",
   "language": "python",
   "name": "python3"
  },
  "language_info": {
   "codemirror_mode": {
    "name": "ipython",
    "version": 3
   },
   "file_extension": ".py",
   "mimetype": "text/x-python",
   "name": "python",
   "nbconvert_exporter": "python",
   "pygments_lexer": "ipython3",
   "version": "3.8.10"
  }
 },
 "nbformat": 4,
 "nbformat_minor": 5
}
